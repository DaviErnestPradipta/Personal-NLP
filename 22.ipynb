{
 "cells": [
  {
   "cell_type": "code",
   "execution_count": 1,
   "id": "8d65d7fe",
   "metadata": {},
   "outputs": [
    {
     "name": "stdout",
     "output_type": "stream",
     "text": [
      "Writing test.txt\n"
     ]
    }
   ],
   "source": [
    "%%writefile test.txt\n",
    "Hello, this is a quick test file.\n",
    "This is the second line of the file."
   ]
  },
  {
   "cell_type": "code",
   "execution_count": 17,
   "id": "d8076194",
   "metadata": {},
   "outputs": [
    {
     "name": "stdout",
     "output_type": "stream",
     "text": [
      "My Brand New Text\n"
     ]
    }
   ],
   "source": [
    "myfile = open('test.txt')\n",
    "content = myfile.read()\n",
    "myfile.close()\n",
    "print(content)"
   ]
  },
  {
   "cell_type": "code",
   "execution_count": 18,
   "id": "92133937",
   "metadata": {},
   "outputs": [],
   "source": [
    "myfile = open('test.txt', 'w+')\n",
    "myfile.write('My Brand New Text')\n",
    "myfile.seek(0)\n",
    "myfile.read()\n",
    "myfile.close()"
   ]
  },
  {
   "cell_type": "code",
   "execution_count": 20,
   "id": "8a03e158",
   "metadata": {},
   "outputs": [
    {
     "name": "stdout",
     "output_type": "stream",
     "text": [
      "My Brand New Line with A+ OpeningMy Brand New Line with A+ Opening\n"
     ]
    }
   ],
   "source": [
    "myfile = open('whoops.txt', 'a+')\n",
    "myfile.write('My Brand New Line with A+ Opening')\n",
    "myfile.seek(0)\n",
    "content = myfile.read()\n",
    "myfile.close()\n",
    "print(content)"
   ]
  },
  {
   "cell_type": "code",
   "execution_count": null,
   "id": "b2fb731b",
   "metadata": {},
   "outputs": [],
   "source": []
  }
 ],
 "metadata": {
  "kernelspec": {
   "display_name": "Python 3 (ipykernel)",
   "language": "python",
   "name": "python3"
  },
  "language_info": {
   "codemirror_mode": {
    "name": "ipython",
    "version": 3
   },
   "file_extension": ".py",
   "mimetype": "text/x-python",
   "name": "python",
   "nbconvert_exporter": "python",
   "pygments_lexer": "ipython3",
   "version": "3.7.16"
  }
 },
 "nbformat": 4,
 "nbformat_minor": 5
}
