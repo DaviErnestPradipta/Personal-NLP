{
 "cells": [
  {
   "cell_type": "code",
   "execution_count": 4,
   "id": "26ab37a4",
   "metadata": {},
   "outputs": [
    {
     "name": "stdout",
     "output_type": "stream",
     "text": [
      "my name is Jose\n",
      "my name is Jose\n"
     ]
    }
   ],
   "source": [
    "person = \"Jose\"\n",
    "print(\"my name is {}\".format(person))\n",
    "print(f\"my name is {person}\")"
   ]
  },
  {
   "cell_type": "code",
   "execution_count": 5,
   "id": "12e0f2f6",
   "metadata": {},
   "outputs": [
    {
     "name": "stdout",
     "output_type": "stream",
     "text": [
      "my number is 124\n"
     ]
    }
   ],
   "source": [
    "d = {'a': 124, 'b': 443}\n",
    "print(f\"my number is {d['a']}\")"
   ]
  },
  {
   "cell_type": "code",
   "execution_count": 6,
   "id": "8bde8a0e",
   "metadata": {},
   "outputs": [
    {
     "name": "stdout",
     "output_type": "stream",
     "text": [
      "my number is 3\n"
     ]
    }
   ],
   "source": [
    "mylist = [0, 3, 4]\n",
    "print(f\"my number is {mylist[1]}\")"
   ]
  },
  {
   "cell_type": "code",
   "execution_count": 13,
   "id": "2c397f16",
   "metadata": {},
   "outputs": [
    {
     "name": "stdout",
     "output_type": "stream",
     "text": [
      "Author     Topic                               Pages\n",
      "Twain      Rafting                               601\n",
      "Feynman    Physics                                95\n",
      "Hamilton   Mythology                             144\n"
     ]
    }
   ],
   "source": [
    "library = [('Author', 'Topic', 'Pages'), ('Twain', 'Rafting', 601), ('Feynman', 'Physics', 95), ('Hamilton', 'Mythology', 144)]\n",
    "for author, topic, pages in library:\n",
    "    print(f\"{author:{10}} {topic:{30}} {pages:>{10}}\")"
   ]
  },
  {
   "cell_type": "code",
   "execution_count": 25,
   "id": "ec8009f4",
   "metadata": {},
   "outputs": [
    {
     "name": "stdout",
     "output_type": "stream",
     "text": [
      "2019-03-05 (Tue) 00:00:00\n"
     ]
    }
   ],
   "source": [
    "from datetime import datetime\n",
    "today = datetime(year = 2019, month = 3, day = 5)\n",
    "print(f\"{today:%Y}-{today:%m}-{today:%d} ({today:%a}) {today:%X}\")"
   ]
  }
 ],
 "metadata": {
  "kernelspec": {
   "display_name": "Python 3 (ipykernel)",
   "language": "python",
   "name": "python3"
  },
  "language_info": {
   "codemirror_mode": {
    "name": "ipython",
    "version": 3
   },
   "file_extension": ".py",
   "mimetype": "text/x-python",
   "name": "python",
   "nbconvert_exporter": "python",
   "pygments_lexer": "ipython3",
   "version": "3.7.16"
  }
 },
 "nbformat": 4,
 "nbformat_minor": 5
}
