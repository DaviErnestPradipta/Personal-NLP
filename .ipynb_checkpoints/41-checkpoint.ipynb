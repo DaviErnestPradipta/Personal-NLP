{
 "cells": [
  {
   "cell_type": "code",
   "execution_count": 1,
   "id": "6e6aa3cb-7830-4ef1-8d33-6a5375da434d",
   "metadata": {},
   "outputs": [],
   "source": [
    "import spacy\n",
    "nlp = spacy.load('en_core_web_sm')"
   ]
  },
  {
   "cell_type": "code",
   "execution_count": 7,
   "id": "547e9822-f218-4000-8cf3-570a447292b1",
   "metadata": {},
   "outputs": [
    {
     "name": "stdout",
     "output_type": "stream",
     "text": [
      "The     DET   DT   determiner\n",
      "quick   ADJ   JJ   adjective (English), other noun-modifier (Chinese)\n",
      "brown   ADJ   JJ   adjective (English), other noun-modifier (Chinese)\n",
      "fox     NOUN  NN   noun, singular or mass\n",
      "jumped  VERB  VBD  verb, past tense\n",
      "over    ADP   IN   conjunction, subordinating or preposition\n",
      "the     DET   DT   determiner\n",
      "lazy    ADJ   JJ   adjective (English), other noun-modifier (Chinese)\n",
      "dog     NOUN  NN   noun, singular or mass\n",
      "'s      PART  POS  possessive ending\n",
      "back    ADV   RB   adverb\n"
     ]
    }
   ],
   "source": [
    "doc = nlp(u'The quick brown fox jumped over the lazy dog\\'s back')\n",
    "for token in doc:\n",
    "    print(f'{token.text:7} {token.pos_:5} {token.tag_:4} {spacy.explain(token.tag_)}')"
   ]
  },
  {
   "cell_type": "code",
   "execution_count": 20,
   "id": "a63cdab6-2dab-46ef-b04c-ae3338391ded",
   "metadata": {},
   "outputs": [
    {
     "name": "stdout",
     "output_type": "stream",
     "text": [
      " 84 ADJ  3\n",
      " 85 ADP  1\n",
      " 86 ADV  1\n",
      " 90 DET  2\n",
      " 92 NOUN 2\n",
      " 94 PART 1\n",
      "100 VERB 1\n"
     ]
    }
   ],
   "source": [
    "POS_counts = doc.count_by(spacy.attrs.POS)\n",
    "for k, v in sorted(POS_counts.items()):\n",
    "    print(f'{k:3} {doc.vocab[k].text:4} {v}')"
   ]
  },
  {
   "cell_type": "code",
   "execution_count": 21,
   "id": "72fa32d6-fc74-44b7-a08b-9691d9da729e",
   "metadata": {},
   "outputs": [
    {
     "name": "stdout",
     "output_type": "stream",
     "text": [
      "                  74 POS 1\n",
      "  164681854541413346 RB  1\n",
      " 1292078113972184607 IN  1\n",
      "10554686591937588953 JJ  3\n",
      "15267657372422890137 DT  2\n",
      "15308085513773655218 NN  2\n",
      "17109001835818727656 VBD 1\n"
     ]
    }
   ],
   "source": [
    "TAG_counts = doc.count_by(spacy.attrs.TAG)\n",
    "for k, v in sorted(TAG_counts.items()):\n",
    "    print(f'{k:20} {doc.vocab[k].text:3} {v}')"
   ]
  },
  {
   "cell_type": "code",
   "execution_count": 23,
   "id": "cc29bf3c-647a-4ac7-b53e-6aaf96d0778c",
   "metadata": {},
   "outputs": [
    {
     "name": "stdout",
     "output_type": "stream",
     "text": [
      "                 400 advmod 1\n",
      "                 402 amod   3\n",
      "                 415 det    2\n",
      "                 429 nsubj  1\n",
      "                 439 pobj   1\n",
      "                 443 prep   1\n",
      " 8110129090154140942 case   1\n",
      " 8206900633647566924 ROOT   1\n"
     ]
    }
   ],
   "source": [
    "DEP_counts = doc.count_by(spacy.attrs.DEP)\n",
    "for k, v in sorted(DEP_counts.items()):\n",
    "    print(f'{k:20} {doc.vocab[k].text:6} {v}')"
   ]
  }
 ],
 "metadata": {
  "kernelspec": {
   "display_name": "Python [conda env:base] *",
   "language": "python",
   "name": "conda-base-py"
  },
  "language_info": {
   "codemirror_mode": {
    "name": "ipython",
    "version": 3
   },
   "file_extension": ".py",
   "mimetype": "text/x-python",
   "name": "python",
   "nbconvert_exporter": "python",
   "pygments_lexer": "ipython3",
   "version": "3.12.3"
  }
 },
 "nbformat": 4,
 "nbformat_minor": 5
}
