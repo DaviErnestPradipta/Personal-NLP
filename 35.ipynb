{
 "cells": [
  {
   "cell_type": "code",
   "execution_count": 1,
   "id": "4004fd67-4803-44df-9e9c-12111634f2d1",
   "metadata": {},
   "outputs": [],
   "source": [
    "import spacy\n",
    "nlp = spacy.load('en_core_web_sm')"
   ]
  },
  {
   "cell_type": "code",
   "execution_count": 13,
   "id": "ee677f8d-caee-4171-9479-bfb7eb7097f2",
   "metadata": {},
   "outputs": [],
   "source": [
    "def show_lemmas(text):\n",
    "    for token in text:\n",
    "        print(f'{token.text:{16}} {token.pos_:{8}} {token.lemma:<{24}} {token.lemma_:{8}}')"
   ]
  },
  {
   "cell_type": "code",
   "execution_count": 14,
   "id": "73ee6183-85e2-49a4-9bed-3f7252ebb324",
   "metadata": {},
   "outputs": [
    {
     "name": "stdout",
     "output_type": "stream",
     "text": [
      "I                PRON     4690420944186131903      I       \n",
      "am               AUX      10382539506755952630     be      \n",
      "a                DET      11901859001352538922     a       \n",
      "runner           NOUN     12640964157389618806     runner  \n",
      "running          VERB     12767647472892411841     run     \n",
      "in               ADP      3002984154512732771      in      \n",
      "a                DET      11901859001352538922     a       \n",
      "race             NOUN     8048469955494714898      race    \n",
      "because          SCONJ    16950148841647037698     because \n",
      "I                PRON     4690420944186131903      I       \n",
      "love             VERB     3702023516439754181      love    \n",
      "running          VERB     12767647472892411841     run     \n",
      "since            SCONJ    10066841407251338481     since   \n",
      "I                PRON     4690420944186131903      I       \n",
      "ran              VERB     12767647472892411841     run     \n",
      "from             ADP      7831658034963690409      from    \n",
      "my               PRON     227504873216781231       my      \n",
      "parents          NOUN     125140298697823262       parent  \n"
     ]
    }
   ],
   "source": [
    "doc1 = nlp(u\"I am a runner running in a race because I love running since I ran from my parents\")\n",
    "show_lemmas(doc1)"
   ]
  },
  {
   "cell_type": "code",
   "execution_count": 15,
   "id": "320e371d-c35a-4351-b805-26bfa019a331",
   "metadata": {},
   "outputs": [
    {
     "name": "stdout",
     "output_type": "stream",
     "text": [
      "I                PRON     4690420944186131903      I       \n",
      "saw              VERB     11925638236994514241     see     \n",
      "five             NUM      12866751920382582095     five    \n",
      "hundred          NUM      11429604268124158044     hundred \n",
      "mice             NOUN     1384165645700560590      mouse   \n",
      "today            NOUN     11042482332948150395     today   \n",
      "!                PUNCT    17494803046312582752     !       \n"
     ]
    }
   ],
   "source": [
    "doc2 = nlp(u\"I saw five hundred mice today!\")\n",
    "show_lemmas(doc2)"
   ]
  },
  {
   "cell_type": "code",
   "execution_count": null,
   "id": "38f42339-5d36-43bc-a85c-4edf33c895db",
   "metadata": {},
   "outputs": [],
   "source": []
  }
 ],
 "metadata": {
  "kernelspec": {
   "display_name": "Python [conda env:base] *",
   "language": "python",
   "name": "conda-base-py"
  },
  "language_info": {
   "codemirror_mode": {
    "name": "ipython",
    "version": 3
   },
   "file_extension": ".py",
   "mimetype": "text/x-python",
   "name": "python",
   "nbconvert_exporter": "python",
   "pygments_lexer": "ipython3",
   "version": "3.12.3"
  }
 },
 "nbformat": 4,
 "nbformat_minor": 5
}
